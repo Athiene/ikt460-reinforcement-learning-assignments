{
 "cells": [
  {
   "cell_type": "code",
   "id": "c1006ce3",
   "metadata": {
    "ExecuteTime": {
     "end_time": "2025-02-12T10:14:17.991678Z",
     "start_time": "2025-02-12T10:14:17.982917Z"
    }
   },
   "source": [
    "def g(t, gamma, r_fn):\n",
    "    v = 0\n",
    "    for step in range(t):\n",
    "        v += gamma**step * r_fn()\n",
    "    return v"
   ],
   "outputs": [],
   "execution_count": 8
  },
  {
   "cell_type": "code",
   "id": "d0e22dd4",
   "metadata": {
    "ExecuteTime": {
     "end_time": "2025-02-12T10:14:19.568072Z",
     "start_time": "2025-02-12T10:14:19.561065Z"
    }
   },
   "source": [
    "import random\n",
    "rng = random.Random()\n",
    "rng.seed(42)\n",
    "g(t=100, gamma=0.99, r_fn=lambda: rng.random())"
   ],
   "outputs": [
    {
     "data": {
      "text/plain": [
       "29.809815542048387"
      ]
     },
     "execution_count": 9,
     "metadata": {},
     "output_type": "execute_result"
    }
   ],
   "execution_count": 9
  },
  {
   "cell_type": "code",
   "id": "746b475e",
   "metadata": {
    "ExecuteTime": {
     "end_time": "2025-02-12T10:21:21.451667Z",
     "start_time": "2025-02-12T10:21:21.445298Z"
    }
   },
   "source": [
    "import numpy as np\n",
    "\n",
    "#States\n",
    "N_STATES = 6\n",
    "\n",
    "# North, South\n",
    "N_ACTIONS = 2\n",
    "\n",
    "# Gamma\n",
    "GAMMA = 0.0000000001\n",
    "\n",
    "def connected_states(current):\n",
    "    arr = np.zeros(N_ACTIONS, dtype=int)\n",
    "    for state in range(N_STATES):\n",
    "        for action in range(N_ACTIONS):\n",
    "            if T[current, action, state] > 0:\n",
    "                arr[action] = state\n",
    "        function_break = True\n",
    "        for _i in arr:\n",
    "            if _i == 0:\n",
    "                function_break = False\n",
    "        if function_break:\n",
    "            break\n",
    "    return arr\n",
    "\n",
    "# Transition\n",
    "T = np.zeros((N_STATES, N_ACTIONS, N_STATES))\n",
    "\n",
    "# Reward\n",
    "R = np.zeros((N_STATES, N_ACTIONS, N_STATES))\n",
    "\n",
    "# ?\n",
    "PI = np.zeros(N_STATES, dtype=int)\n",
    "PI[1] = 1\n",
    "\n",
    "# V\n",
    "V = np.random.rand(N_STATES, 1)\n",
    "\n",
    "T[0,0,1] = 0.8\n",
    "T[0,1,2] = 0.2\n",
    "T[1,0,3] = 0.2\n",
    "T[1,1,4] = 0.8\n",
    "T[2,0,4] = 0.2\n",
    "T[2,1,5] = 0.8\n",
    "\n",
    "R[0,0,1] = 2.0\n",
    "R[0,1,2] = 1.0\n",
    "R[1,0,3] = -2.0\n",
    "R[1,1,4] = 1.0\n",
    "R[2,0,4] = 1.0\n",
    "R[2,1,5] = -0.5\n",
    "\n",
    "print(PI)"
   ],
   "outputs": [
    {
     "name": "stdout",
     "output_type": "stream",
     "text": [
      "[0 1 0 0 0 0]\n"
     ]
    }
   ],
   "execution_count": 17
  },
  {
   "cell_type": "code",
   "id": "683ce57f",
   "metadata": {
    "ExecuteTime": {
     "end_time": "2025-02-12T10:21:35.424714Z",
     "start_time": "2025-02-12T10:21:35.419186Z"
    }
   },
   "source": [
    "for s in range(N_STATES):\n",
    "    s1 = connected_states(s)\n",
    "    V[s] = 0\n",
    "    for i in range(len(s1)):\n",
    "        V[s] += sum([T[s, PI[s], s1[i]] * (R[s, PI[s], s1[i]] + GAMMA)])\n",
    "\n",
    "print(\"--- Improvement ---\")\n",
    "for s in range(N_STATES):\n",
    "    q_best = V[s]\n",
    "    for a in range(N_ACTIONS):\n",
    "        s1 = connected_states(s)\n",
    "        q_sa = 0\n",
    "        for i in range(len(s1)):\n",
    "            q_sa += sum([R[s, a, s1[i]] + (T[s, a, s1[i]] * GAMMA)])\n",
    "        if q_sa > q_best:\n",
    "            print(\"State\", s, \": q_sa\", q_sa, \", q_best\", q_best, \", action\", a)\n",
    "            PI[s] = a\n",
    "            q_best = q_sa\n",
    "\n",
    "print(\"\\n--- Value function ---\")\n",
    "for i in range(N_STATES):\n",
    "    print(\"Value of state\", i, \": \", V[i])\n",
    "\n",
    "print(\"\\n--- PI ---\")\n",
    "print(PI)"
   ],
   "outputs": [
    {
     "name": "stdout",
     "output_type": "stream",
     "text": [
      "--- Improvement ---\n",
      "State 0 : q_sa 2.00000000008 , q_best [1.6] , action 0\n",
      "State 1 : q_sa 1.00000000008 , q_best [0.8] , action 1\n",
      "State 2 : q_sa 1.00000000002 , q_best [0.2] , action 0\n",
      "\n",
      "--- Value function ---\n",
      "Value of state 0 :  [1.6]\n",
      "Value of state 1 :  [0.8]\n",
      "Value of state 2 :  [0.2]\n",
      "Value of state 3 :  [0.]\n",
      "Value of state 4 :  [0.]\n",
      "Value of state 5 :  [0.]\n",
      "\n",
      "--- PI ---\n",
      "[0 1 0 0 0 0]\n"
     ]
    }
   ],
   "execution_count": 19
  }
 ],
 "metadata": {
  "kernelspec": {
   "display_name": "Python 3 (ipykernel)",
   "language": "python",
   "name": "python3"
  },
  "language_info": {
   "codemirror_mode": {
    "name": "ipython",
    "version": 3
   },
   "file_extension": ".py",
   "mimetype": "text/x-python",
   "name": "python",
   "nbconvert_exporter": "python",
   "pygments_lexer": "ipython3",
   "version": "3.8.10"
  }
 },
 "nbformat": 4,
 "nbformat_minor": 5
}
