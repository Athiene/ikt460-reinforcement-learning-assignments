{
 "cells": [
  {
   "cell_type": "code",
   "execution_count": 1,
   "id": "45eb9c91",
   "metadata": {},
   "outputs": [
    {
     "name": "stderr",
     "output_type": "stream",
     "text": [
      "2023-03-09 13:54:54.190534: I tensorflow/core/platform/cpu_feature_guard.cc:193] This TensorFlow binary is optimized with oneAPI Deep Neural Network Library (oneDNN) to use the following CPU instructions in performance-critical operations:  AVX2 AVX512F FMA\n",
      "To enable them in other operations, rebuild TensorFlow with the appropriate compiler flags.\n",
      "2023-03-09 13:54:54.914096: W tensorflow/compiler/xla/stream_executor/platform/default/dso_loader.cc:64] Could not load dynamic library 'libnvinfer.so.7'; dlerror: libnvinfer.so.7: cannot open shared object file: No such file or directory; LD_LIBRARY_PATH: /usr/local/lib/python3.8/site-packages/cv2/../../../../lib:\n",
      "2023-03-09 13:54:54.914178: W tensorflow/compiler/xla/stream_executor/platform/default/dso_loader.cc:64] Could not load dynamic library 'libnvinfer_plugin.so.7'; dlerror: libnvinfer_plugin.so.7: cannot open shared object file: No such file or directory; LD_LIBRARY_PATH: /usr/local/lib/python3.8/site-packages/cv2/../../../../lib:\n",
      "2023-03-09 13:54:54.914187: W tensorflow/compiler/tf2tensorrt/utils/py_utils.cc:38] TF-TRT Warning: Cannot dlopen some TensorRT libraries. If you would like to use Nvidia GPU with TensorRT, please make sure the missing libraries mentioned above are installed properly.\n"
     ]
    }
   ],
   "source": [
    "import collections\n",
    "import gym\n",
    "import numpy as np\n",
    "import statistics\n",
    "import tensorflow as tf\n",
    "import tqdm\n",
    "\n",
    "from matplotlib import pyplot as plt\n",
    "from tensorflow.keras import layers\n",
    "from typing import Any, List, Sequence, Tuple\n",
    "\n",
    "\n",
    "# Create the environment\n",
    "env = gym.make(\"CartPole-v1\")\n",
    "\n",
    "# Set seed for experiment reproducibility\n",
    "seed = 42\n",
    "tf.random.set_seed(seed)\n",
    "np.random.seed(seed)\n",
    "\n",
    "# Small epsilon value for stabilizing division operations\n",
    "eps = np.finfo(np.float32).eps.item()"
   ]
  },
  {
   "cell_type": "code",
   "execution_count": 2,
   "id": "3b12de3f",
   "metadata": {},
   "outputs": [],
   "source": [
    "#pip install --upgrade gym"
   ]
  },
  {
   "cell_type": "code",
   "execution_count": 3,
   "id": "869efd03",
   "metadata": {},
   "outputs": [],
   "source": [
    "class ActorCritic(tf.keras.Model):\n",
    "    def __init__(self, num_actions: int, num_hidden_units: int):\n",
    "        super().__init__()\n",
    "\n",
    "        self.common = layers.Dense(num_hidden_units, activation=\"relu\")\n",
    "        self.actor = layers.Dense(num_actions)\n",
    "        self.critic = layers.Dense(1)\n",
    "\n",
    "    def call(self, inputs: tf.Tensor) -> Tuple[tf.Tensor, tf.Tensor]:\n",
    "        x = self.common(inputs)\n",
    "        return self.actor(x), self.critic(x)"
   ]
  },
  {
   "cell_type": "code",
   "execution_count": 4,
   "id": "693486f0",
   "metadata": {},
   "outputs": [
    {
     "name": "stderr",
     "output_type": "stream",
     "text": [
      "2023-03-09 13:55:02.663219: E tensorflow/compiler/xla/stream_executor/cuda/cuda_driver.cc:267] failed call to cuInit: CUDA_ERROR_NO_DEVICE: no CUDA-capable device is detected\n",
      "2023-03-09 13:55:02.663286: I tensorflow/compiler/xla/stream_executor/cuda/cuda_diagnostics.cc:169] retrieving CUDA diagnostic information for host: jupyter-adityag\n",
      "2023-03-09 13:55:02.663303: I tensorflow/compiler/xla/stream_executor/cuda/cuda_diagnostics.cc:176] hostname: jupyter-adityag\n",
      "2023-03-09 13:55:02.663498: I tensorflow/compiler/xla/stream_executor/cuda/cuda_diagnostics.cc:200] libcuda reported version is: NOT_FOUND: was unable to find libcuda.so DSO loaded into this program\n",
      "2023-03-09 13:55:02.663542: I tensorflow/compiler/xla/stream_executor/cuda/cuda_diagnostics.cc:204] kernel reported version is: 515.86.1\n",
      "2023-03-09 13:55:02.664165: I tensorflow/core/platform/cpu_feature_guard.cc:193] This TensorFlow binary is optimized with oneAPI Deep Neural Network Library (oneDNN) to use the following CPU instructions in performance-critical operations:  AVX2 AVX512F FMA\n",
      "To enable them in other operations, rebuild TensorFlow with the appropriate compiler flags.\n"
     ]
    }
   ],
   "source": [
    "num_actions = env.action_space.n  # 2\n",
    "num_hidden_units = 128\n",
    "\n",
    "model = ActorCritic(num_actions, num_hidden_units)"
   ]
  },
  {
   "cell_type": "code",
   "execution_count": 5,
   "id": "1d230656",
   "metadata": {},
   "outputs": [],
   "source": [
    "# Wrap Gym's `env.step` call as an operation in a TensorFlow function.\n",
    "# This would allow it to be included in a callable TensorFlow graph.\n",
    "\n",
    "def env_step(action: np.ndarray) -> Tuple[np.ndarray, np.ndarray, np.ndarray]:\n",
    "  #\"\"\"Returns state, reward and done flag given an action.\"\"\"\n",
    "\n",
    "    state, reward, done, truncated, info = env.step(action)\n",
    "    return (state.astype(np.float32), \n",
    "          np.array(reward, np.int32), \n",
    "          np.array(done, np.int32))\n",
    "\n",
    "\n",
    "def tf_env_step(action: tf.Tensor) -> List[tf.Tensor]:\n",
    "    return tf.numpy_function(env_step, [action],[tf.float32, tf.int32, tf.int32])"
   ]
  },
  {
   "cell_type": "code",
   "execution_count": 6,
   "id": "9cb8aba6",
   "metadata": {},
   "outputs": [],
   "source": [
    "#Collect training data\n",
    "def run_episode(initial_state: tf.Tensor,  model: tf.keras.Model, max_steps: int) -> Tuple[tf.Tensor, tf.Tensor, tf.Tensor]:\n",
    "   #\"\"\"Runs a single episode to collect training data.\"\"\"\n",
    "\n",
    "    action_probs = tf.TensorArray(dtype=tf.float32, size=0, dynamic_size=True)\n",
    "    values = tf.TensorArray(dtype=tf.float32, size=0, dynamic_size=True)\n",
    "    rewards = tf.TensorArray(dtype=tf.int32, size=0, dynamic_size=True)\n",
    "\n",
    "    initial_state_shape = initial_state.shape\n",
    "    state = initial_state\n",
    "\n",
    "    for t in tf.range(max_steps):\n",
    "        # Convert state into a batched tensor (batch size = 1)\n",
    "        state = tf.expand_dims(state, 0)\n",
    "\n",
    "        # Run the model and to get action probabilities and critic value\n",
    "        action_logits_t, value = model(state)\n",
    "\n",
    "        # Sample next action from the action probability distribution\n",
    "        action = tf.random.categorical(action_logits_t, 1)[0, 0]\n",
    "        action_probs_t = tf.nn.softmax(action_logits_t)\n",
    "\n",
    "        # Store critic values\n",
    "        values = values.write(t, tf.squeeze(value))\n",
    "\n",
    "        # Store log probability of the action chosen\n",
    "        action_probs = action_probs.write(t, action_probs_t[0, action])\n",
    "\n",
    "        # Apply action to the environment to get next state and reward\n",
    "        state, reward, done = tf_env_step(action)\n",
    "        state.set_shape(initial_state_shape)\n",
    "\n",
    "        # Store reward\n",
    "        rewards = rewards.write(t, reward)\n",
    "\n",
    "        if tf.cast(done, tf.bool):\n",
    "            break\n",
    "\n",
    "    action_probs = action_probs.stack()\n",
    "    values = values.stack()\n",
    "    rewards = rewards.stack()\n",
    "\n",
    "    return action_probs, values, rewards"
   ]
  },
  {
   "cell_type": "code",
   "execution_count": 7,
   "id": "1a9ef3a4",
   "metadata": {},
   "outputs": [],
   "source": [
    "#Compute the expected returns\n",
    "\n",
    "def get_expected_return(rewards: tf.Tensor, gamma: float, standardize: bool = True) -> tf.Tensor:\n",
    " # \"\"\"Compute expected returns per timestep.\"\"\"\n",
    "\n",
    "    n = tf.shape(rewards)[0]\n",
    "    returns = tf.TensorArray(dtype=tf.float32, size=n)\n",
    "\n",
    "    # Start from the end of `rewards` and accumulate reward sums\n",
    "    # into the `returns` array\n",
    "    rewards = tf.cast(rewards[::-1], dtype=tf.float32)\n",
    "    discounted_sum = tf.constant(0.0)\n",
    "    discounted_sum_shape = discounted_sum.shape\n",
    "    for i in tf.range(n):\n",
    "        reward = rewards[i]\n",
    "        discounted_sum = reward + gamma * discounted_sum\n",
    "        discounted_sum.set_shape(discounted_sum_shape)\n",
    "        returns = returns.write(i, discounted_sum)\n",
    "    returns = returns.stack()[::-1]\n",
    "\n",
    "    if standardize:\n",
    "        returns = ((returns - tf.math.reduce_mean(returns)) / (tf.math.reduce_std(returns) + eps))\n",
    "\n",
    "    return returns"
   ]
  },
  {
   "cell_type": "code",
   "execution_count": 8,
   "id": "8d4e0284",
   "metadata": {},
   "outputs": [],
   "source": [
    "######Actor loss function\n",
    "\n",
    "\n",
    "huber_loss = tf.keras.losses.Huber(reduction=tf.keras.losses.Reduction.SUM)\n",
    "\n",
    "def compute_loss(action_probs: tf.Tensor,  values: tf.Tensor,  returns: tf.Tensor) -> tf.Tensor:\n",
    "  #\"\"\"Computes the combined Actor-Critic loss.\"\"\"\n",
    "    advantage = returns - values\n",
    "    action_log_probs = tf.math.log(action_probs)\n",
    "    actor_loss = -tf.math.reduce_sum(action_log_probs * advantage)\n",
    "    critic_loss = huber_loss(values, returns)\n",
    "    return actor_loss + critic_loss"
   ]
  },
  {
   "cell_type": "code",
   "execution_count": 9,
   "id": "7e6a465c",
   "metadata": {},
   "outputs": [],
   "source": [
    "#Define the training step to update parameters\n",
    "optimizer = tf.keras.optimizers.Adam(learning_rate=0.01)\n",
    "\n",
    "@tf.function\n",
    "def train_step(initial_state: tf.Tensor, model: tf.keras.Model, optimizer: tf.keras.optimizers.Optimizer, gamma: float, max_steps_per_episode: int) -> tf.Tensor:\n",
    "  #\"\"\"Runs a model training step.\"\"\"\n",
    "    with tf.GradientTape() as tape:\n",
    "\n",
    "        # Run the model for one episode to collect training data\n",
    "        action_probs, values, rewards = run_episode(\n",
    "        initial_state, model, max_steps_per_episode) \n",
    "\n",
    "        # Calculate the expected returns\n",
    "        returns = get_expected_return(rewards, gamma)\n",
    "\n",
    "        # Convert training data to appropriate TF tensor shapes\n",
    "        action_probs, values, returns = [\n",
    "            tf.expand_dims(x, 1) for x in [action_probs, values, returns]] \n",
    "\n",
    "    # Calculate the loss values to update our network\n",
    "        loss = compute_loss(action_probs, values, returns)\n",
    "\n",
    "  # Compute the gradients from the loss\n",
    "    grads = tape.gradient(loss, model.trainable_variables)\n",
    "\n",
    "    # Apply the gradients to the model's parameters\n",
    "    optimizer.apply_gradients(zip(grads, model.trainable_variables))\n",
    "\n",
    "    episode_reward = tf.math.reduce_sum(rewards)\n",
    "\n",
    "    return episode_reward"
   ]
  },
  {
   "cell_type": "code",
   "execution_count": 18,
   "id": "77a26dd7",
   "metadata": {},
   "outputs": [
    {
     "name": "stderr",
     "output_type": "stream",
     "text": [
      "100%|██████████| 100/100 [00:13<00:00,  7.39it/s, episode_reward=26, running_reward=276] "
     ]
    },
    {
     "name": "stdout",
     "output_type": "stream",
     "text": [
      "\n",
      "Solved at episode 99: average reward: 276.42!\n"
     ]
    },
    {
     "name": "stderr",
     "output_type": "stream",
     "text": [
      "\n"
     ]
    }
   ],
   "source": [
    "#%%time\n",
    "#Run the training loop\n",
    "min_episodes_criterion = 50\n",
    "max_episodes = 100\n",
    "max_steps_per_episode = 1000\n",
    "\n",
    "# `CartPole-v1` is considered solved if average reward is >= 475 over 500 \n",
    "# consecutive trials\n",
    "reward_threshold = 475\n",
    "running_reward = 0\n",
    "\n",
    "# The discount factor for future rewards\n",
    "gamma = 0.99\n",
    "\n",
    "# Keep the last episodes reward\n",
    "episodes_reward: collections.deque = collections.deque(maxlen=min_episodes_criterion)\n",
    "\n",
    "t = tqdm.trange(max_episodes)\n",
    "for i in t:\n",
    "    initial_state, info = env.reset()\n",
    "    initial_state = tf.constant(initial_state, dtype=tf.float32)\n",
    "    episode_reward = int(train_step(\n",
    "        initial_state, model, optimizer, gamma, max_steps_per_episode))\n",
    "\n",
    "    episodes_reward.append(episode_reward)\n",
    "    running_reward = statistics.mean(episodes_reward)\n",
    "\n",
    "\n",
    "    t.set_postfix(\n",
    "        episode_reward=episode_reward, running_reward=running_reward)\n",
    "\n",
    "    # Show the average episode reward every 10 episodes\n",
    "    if i % 10 == 0:\n",
    "        pass # print(f'Episode {i}: average reward: {avg_reward}')\n",
    "\n",
    "    if running_reward > reward_threshold and i >= min_episodes_criterion:  \n",
    "        break\n",
    "\n",
    "print(f'\\nSolved at episode {i}: average reward: {running_reward:.2f}!')"
   ]
  },
  {
   "cell_type": "code",
   "execution_count": 19,
   "id": "77972248",
   "metadata": {},
   "outputs": [],
   "source": [
    "#pip install pyglet"
   ]
  },
  {
   "cell_type": "code",
   "execution_count": 20,
   "id": "07b047b9",
   "metadata": {},
   "outputs": [],
   "source": [
    "# Render an episode and save as a GIF file\n",
    "\n",
    "from IPython import display as ipythondisplay\n",
    "from PIL import Image\n",
    "\n",
    "render_env = gym.make(\"CartPole-v1\", render_mode='rgb_array')\n",
    "\n",
    "def render_episode(env: gym.Env, model: tf.keras.Model, max_steps: int): \n",
    "    state, info = env.reset()\n",
    "    state = tf.constant(state, dtype=tf.float32)\n",
    "    screen = env.render()\n",
    "    images = [Image.fromarray(screen)]\n",
    "\n",
    "    for i in range(1, max_steps + 1):\n",
    "        state = tf.expand_dims(state, 0)\n",
    "        action_probs, _ = model(state)\n",
    "        action = np.argmax(np.squeeze(action_probs))\n",
    "\n",
    "        state, reward, done, truncated, info = env.step(action)\n",
    "        state = tf.constant(state, dtype=tf.float32)\n",
    "\n",
    "    # Render screen every 10 steps\n",
    "        if i % 10 == 0:\n",
    "            screen = env.render()\n",
    "            images.append(Image.fromarray(screen))\n",
    "\n",
    "        if done:\n",
    "              break\n",
    "\n",
    "    return images\n",
    "\n",
    "\n",
    "# Save GIF image\n",
    "images = render_episode(render_env, model, max_steps_per_episode)\n",
    "image_file = 'cartpole-v1.gif'\n",
    "# loop=0: loop forever, duration=1: play each frame for 1ms\n",
    "images[0].save(image_file, save_all=True, append_images=images[1:], loop=0, duration=1)"
   ]
  },
  {
   "cell_type": "code",
   "execution_count": 21,
   "id": "c4b06e5d",
   "metadata": {},
   "outputs": [
    {
     "data": {
      "text/html": [
       "<img src=\"data:image/gif;base64,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\"/>"
      ],
      "text/plain": [
       "<IPython.core.display.HTML object>"
      ]
     },
     "execution_count": 21,
     "metadata": {},
     "output_type": "execute_result"
    }
   ],
   "source": [
    "import tensorflow_docs.vis.embed as embed\n",
    "embed.embed_file(image_file)"
   ]
  },
  {
   "cell_type": "code",
   "execution_count": null,
   "id": "8a7573ca",
   "metadata": {},
   "outputs": [],
   "source": [
    "pip install gym[classic_control]"
   ]
  },
  {
   "cell_type": "code",
   "execution_count": null,
   "id": "601d3899",
   "metadata": {},
   "outputs": [],
   "source": []
  },
  {
   "cell_type": "code",
   "execution_count": null,
   "id": "3efd6d22",
   "metadata": {},
   "outputs": [],
   "source": []
  },
  {
   "cell_type": "code",
   "execution_count": null,
   "id": "f7e94a6d",
   "metadata": {},
   "outputs": [],
   "source": []
  }
 ],
 "metadata": {
  "kernelspec": {
   "display_name": "Python 3 (ipykernel)",
   "language": "python",
   "name": "python3"
  },
  "language_info": {
   "codemirror_mode": {
    "name": "ipython",
    "version": 3
   },
   "file_extension": ".py",
   "mimetype": "text/x-python",
   "name": "python",
   "nbconvert_exporter": "python",
   "pygments_lexer": "ipython3",
   "version": "3.8.10"
  }
 },
 "nbformat": 4,
 "nbformat_minor": 5
}
